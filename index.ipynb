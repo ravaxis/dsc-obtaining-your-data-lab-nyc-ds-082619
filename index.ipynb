{
 "cells": [
  {
   "cell_type": "markdown",
   "metadata": {},
   "source": [
    "# Obtaining Your Data - Lab"
   ]
  },
  {
   "cell_type": "markdown",
   "metadata": {},
   "source": [
    "## Introduction\n",
    "In this lab you'll practice your munging and transforming skills in order to load in your data to solve a regression problem."
   ]
  },
  {
   "cell_type": "markdown",
   "metadata": {},
   "source": [
    "## Objectives\n",
    "You will be able to:\n",
    "* Understand the ETL process and the steps it consists of\n",
    "* Understand the challenges of working with data from multiple sources "
   ]
  },
  {
   "cell_type": "markdown",
   "metadata": {},
   "source": [
    "## Task Description\n",
    "\n",
    "You just got hired by Lego! Your first project is going to be to develop a pricing algorithm to help set a target price for new lego sets that are released to market. To do this, you're first going to need to start mining the company database in order to collect the information you need to develop a model.\n",
    "\n",
    "Start by investigating the database stored in lego.db and joining the tables into a unified dataset!\n",
    "\n",
    "> **Hint:** use this SQL query to preview the tables in an unknown database:\n",
    "```sql\n",
    "SELECT name FROM sqlite_master\n",
    "            WHERE type='table'\n",
    "            ORDER BY name;\n",
    "```"
   ]
  },
  {
   "cell_type": "code",
   "execution_count": 2,
   "metadata": {},
   "outputs": [],
   "source": [
    "import sqlite3\n",
    "import pandas as pd"
   ]
  },
  {
   "cell_type": "code",
   "execution_count": null,
   "metadata": {},
   "outputs": [],
   "source": []
  },
  {
   "cell_type": "code",
   "execution_count": 6,
   "metadata": {},
   "outputs": [
    {
     "name": "stdout",
     "output_type": "stream",
     "text": [
      "[('product_details',), ('product_info',), ('product_pricing',), ('product_reviews',)]\n"
     ]
    }
   ],
   "source": [
    "conn = sqlite3.connect('lego.db')\n",
    "c = conn.cursor()\n",
    "response = c.execute('''\n",
    "SELECT name FROM sqlite_master\n",
    "WHERE type='table'\n",
    "ORDER BY name;\n",
    "                     ''').fetchall()\n",
    "print(response)"
   ]
  },
  {
   "cell_type": "code",
   "execution_count": null,
   "metadata": {},
   "outputs": [],
   "source": [
    "#Preview the tables:\n",
    "for item in response:\n",
    "    table = item[0]\n",
    "    length = c.execute(\"\"\"SELECT count(*) from {};\"\"\".format(table)).fetchall()\n",
    "    results = c.execute(\"\"\"SELECT * from {} limit 5;\"\"\".format(table)).fetchall()\n",
    "    df = pd.DataFrame(results)\n",
    "    df.columns = [x[0] for x in c.description]\n",
    "    print(table, length, '\\n', df, '\\n\\n')"
   ]
  },
  {
   "cell_type": "code",
   "execution_count": 7,
   "metadata": {},
   "outputs": [
    {
     "name": "stdout",
     "output_type": "stream",
     "text": [
      "product_details [(744,)] \n",
      "    prod_id prod_desc prod_long_desc theme_name\n",
      "0      630      blah       blahblah    Classic\n",
      "1     2304      blah       blahblah     DUPLO®\n",
      "2     7280      blah       blahblah       City\n",
      "3     7281      blah       blahblah       City\n",
      "4     7499      blah       blahblah       City \n",
      "\n",
      "\n",
      "product_info [(744,)] \n",
      "    prod_id  ages  piece_count                         set_name\n",
      "0      630    4+            1                  Brick Separator\n",
      "1     2304  1½-5            1     LEGO® DUPLO® Green Baseplate\n",
      "2     7280  5-12            2      Straight & Crossroad Plates\n",
      "3     7281  5-12            2  T-Junction & Curved Road Plates\n",
      "4     7499  5-12           24     Flexible and Straight Tracks \n",
      "\n",
      "\n",
      "product_pricing [(10870,)] \n",
      "    prod_id country list_price\n",
      "0    75823      US      29.99\n",
      "1    75822      US      19.99\n",
      "2    75821      US      12.99\n",
      "3    21030      US      99.99\n",
      "4    21035      US      79.99 \n",
      "\n",
      "\n",
      "product_reviews [(744,)] \n",
      "    prod_id  num_reviews  play_star_rating review_difficulty  star_rating  \\\n",
      "0      630          180               4.0         Very Easy          4.8   \n",
      "1     2304           15               4.4              Easy          4.0   \n",
      "2     7280           85               4.1         Very Easy          3.5   \n",
      "3     7281           40               4.1         Very Easy          3.9   \n",
      "4     7499           89               2.9              Easy          2.5   \n",
      "\n",
      "   val_star_rating  \n",
      "0              4.6  \n",
      "1              3.3  \n",
      "2              2.3  \n",
      "3              2.8  \n",
      "4              2.2   \n",
      "\n",
      "\n"
     ]
    }
   ],
   "source": [
    "for item in response:\n",
    "    table = item[0]\n",
    "    length = c.execute('''SELECT count(*) from {};'''.format(table)).fetchall()\n",
    "    results = c.execute('''SELECT * from {} limit 5;'''.format(table)).fetchall()\n",
    "    df = pd.DataFrame(results)\n",
    "    df.columns = [x[0] for x in c.description]\n",
    "    print(table, length, '\\n', df, '\\n\\n')"
   ]
  },
  {
   "cell_type": "code",
   "execution_count": null,
   "metadata": {},
   "outputs": [],
   "source": [
    "cmd = \"\"\"SELECT * FROM product_info\n",
    "                  JOIN product_details\n",
    "                  USING(prod_id)\n",
    "                  JOIN product_pricing\n",
    "                  USING(prod_id)\n",
    "                  JOIN product_reviews\n",
    "                  USING(prod_id);\"\"\"\n",
    "result = c.execute(cmd).fetchall()\n",
    "df = pd.DataFrame(result)\n",
    "df.columns = [x[0] for x in c.description]\n",
    "print(len(df))\n",
    "df.head()"
   ]
  },
  {
   "cell_type": "code",
   "execution_count": null,
   "metadata": {},
   "outputs": [],
   "source": [
    "cmd = '''\n",
    "SELECT * FROM product_info\n",
    "JOIN product_details\n",
    "USING(prod_id)\n",
    "JOIN product_pricing USING(prod_id)\n",
    "JOIN product_reviews USING(prod_id);\n",
    "\n",
    "'''\n",
    "result = c.execute(cmd).fetchall()\n",
    "df = pd.DataFrame(result)\n",
    "df.columns = [x[0] for x in c.description]\n",
    "print(len)\n",
    "\n"
   ]
  },
  {
   "cell_type": "code",
   "execution_count": null,
   "metadata": {},
   "outputs": [],
   "source": []
  },
  {
   "cell_type": "markdown",
   "metadata": {},
   "source": [
    "## Summary\n",
    "Nice work! You're working more and more independently through the workflow and ensuring data integrity!"
   ]
  }
 ],
 "metadata": {
  "kernelspec": {
   "display_name": "Python 3",
   "language": "python",
   "name": "python3"
  },
  "language_info": {
   "codemirror_mode": {
    "name": "ipython",
    "version": 3
   },
   "file_extension": ".py",
   "mimetype": "text/x-python",
   "name": "python",
   "nbconvert_exporter": "python",
   "pygments_lexer": "ipython3",
   "version": "3.6.6"
  }
 },
 "nbformat": 4,
 "nbformat_minor": 2
}
